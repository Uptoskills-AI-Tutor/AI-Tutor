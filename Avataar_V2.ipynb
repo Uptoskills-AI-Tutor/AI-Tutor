{
  "cells": [
    {
      "cell_type": "code",
      "execution_count": null,
      "metadata": {
        "id": "1pjjrZh6seoy"
      },
      "outputs": [],
      "source": [
        " # Step 1: Remove old SadTalker if it exists\n",
        "import os, shutil\n",
        "if os.path.exists(\"SadTalker\"):\n",
        "    print(\"Removing existing SadTalker folder...\")\n",
        "    shutil.rmtree(\"SadTalker\")\n",
        "\n",
        "# Step 2: Clone SadTalker repo\n",
        "print(\"Cloning SadTalker repo...\")\n",
        "!git clone https://github.com/OpenTalker/SadTalker.git\n",
        "\n",
        "# Step 3: Move into SadTalker folder\n",
        "%cd SadTalker\n",
        "\n",
        "# Modify requirements.txt to remove specific torch version\n",
        "print(\"Modifying requirements.txt to remove specific torch version...\")\n",
        "!sed -i 's/torch==1.12.1//g' requirements.txt\n",
        "!sed -i 's/torchvision==0.13.1//g' requirements.txt\n",
        "!sed -i 's/torchaudio==0.12.1//g' requirements.txt\n",
        "\n",
        "# Step 4: Install SadTalker's requirements\n",
        "print(\"Installing SadTalker requirements...\")\n",
        "!pip install -r requirements.txt\n",
        "\n",
        "# Step 5: Install Coqui TTS (used for voice synthesis)\n",
        "print(\"Installing TTS package...\")\n",
        "!pip install TTS\n",
        "\n",
        "# Step 6: Download pretrained models\n",
        "print(\"Downloading SadTalker models...\")\n",
        "!bash scripts/download_models.sh\n",
        "\n",
        "# Step 7: Install extra video/audio dependencies\n",
        "print(\"Installing video processing tools...\")\n",
        "!pip install ffmpeg-python imageio imageio-ffmpeg\n",
        "!apt-get update -y && apt-get install -y ffmpeg\n",
        "!pip install --upgrade imageio\n",
        "\n",
        "# Step 8: Go back to root if needed\n",
        "%cd ..\n",
        "\n",
        "# Step 9: Import and check everything is working\n",
        "print(\"Verifying installations...\")\n",
        "import numpy as np\n",
        "import torch\n",
        "import torchvision\n",
        "import TTS\n",
        "\n",
        "print(\"✅ All core libraries imported successfully!\")\n",
        "\n",
        "# Optional: Show installed versions\n",
        "!pip show torch\n",
        "!pip show torchvision\n",
        "!pip show torchaudio\n",
        "!pip show numpy\n",
        "!pip show TTS\n",
        "!pip show basicsr || echo \"basicsr not found\"\n",
        "!pip show facexlib || echo \"facexlib not found\"\n",
        "!pip show gfpgan || echo \"gfpgan not found\""
      ]
    },
    {
      "cell_type": "code",
      "source": [],
      "metadata": {
        "id": "syLm4kWAXjR6"
      },
      "execution_count": null,
      "outputs": []
    },
    {
      "cell_type": "code",
      "execution_count": null,
      "metadata": {
        "id": "OLD4kdAX4v7P",
        "colab": {
          "base_uri": "https://localhost:8080/",
          "height": 365
        },
        "outputId": "9b40e6b5-a410-4ac8-e986-5df88f9a9d44"
      },
      "outputs": [
        {
          "output_type": "error",
          "ename": "FileNotFoundError",
          "evalue": "[Errno 2] No such file or directory: '/content/SadTalker/src/face3d/util/my_awing_arch.py' -> '/content/SadTalker/src/face3d/util/my_awing_arch.py.bak'",
          "traceback": [
            "\u001b[0;31m---------------------------------------------------------------------------\u001b[0m",
            "\u001b[0;31mFileNotFoundError\u001b[0m                         Traceback (most recent call last)",
            "\u001b[0;32m/tmp/ipython-input-2-2621734925.py\u001b[0m in \u001b[0;36m<cell line: 0>\u001b[0;34m()\u001b[0m\n\u001b[1;32m      7\u001b[0m \u001b[0;34m\u001b[0m\u001b[0m\n\u001b[1;32m      8\u001b[0m \u001b[0;31m# Edit the file in place to replace deprecated np.float\u001b[0m\u001b[0;34m\u001b[0m\u001b[0;34m\u001b[0m\u001b[0m\n\u001b[0;32m----> 9\u001b[0;31m \u001b[0;32mfor\u001b[0m \u001b[0mline\u001b[0m \u001b[0;32min\u001b[0m \u001b[0mfileinput\u001b[0m\u001b[0;34m.\u001b[0m\u001b[0mFileInput\u001b[0m\u001b[0;34m(\u001b[0m\u001b[0mfile_path\u001b[0m\u001b[0;34m,\u001b[0m \u001b[0minplace\u001b[0m\u001b[0;34m=\u001b[0m\u001b[0;32mTrue\u001b[0m\u001b[0;34m)\u001b[0m\u001b[0;34m:\u001b[0m\u001b[0;34m\u001b[0m\u001b[0;34m\u001b[0m\u001b[0m\n\u001b[0m\u001b[1;32m     10\u001b[0m     \u001b[0;32mif\u001b[0m \u001b[0mold_string\u001b[0m \u001b[0;32min\u001b[0m \u001b[0mline\u001b[0m\u001b[0;34m:\u001b[0m\u001b[0;34m\u001b[0m\u001b[0;34m\u001b[0m\u001b[0m\n\u001b[1;32m     11\u001b[0m         \u001b[0mline\u001b[0m \u001b[0;34m=\u001b[0m \u001b[0mline\u001b[0m\u001b[0;34m.\u001b[0m\u001b[0mreplace\u001b[0m\u001b[0;34m(\u001b[0m\u001b[0mold_string\u001b[0m\u001b[0;34m,\u001b[0m \u001b[0mnew_string\u001b[0m\u001b[0;34m)\u001b[0m\u001b[0;34m\u001b[0m\u001b[0;34m\u001b[0m\u001b[0m\n",
            "\u001b[0;32m/usr/lib/python3.11/fileinput.py\u001b[0m in \u001b[0;36m__next__\u001b[0;34m(self)\u001b[0m\n\u001b[1;32m    249\u001b[0m     \u001b[0;32mdef\u001b[0m \u001b[0m__next__\u001b[0m\u001b[0;34m(\u001b[0m\u001b[0mself\u001b[0m\u001b[0;34m)\u001b[0m\u001b[0;34m:\u001b[0m\u001b[0;34m\u001b[0m\u001b[0;34m\u001b[0m\u001b[0m\n\u001b[1;32m    250\u001b[0m         \u001b[0;32mwhile\u001b[0m \u001b[0;32mTrue\u001b[0m\u001b[0;34m:\u001b[0m\u001b[0;34m\u001b[0m\u001b[0;34m\u001b[0m\u001b[0m\n\u001b[0;32m--> 251\u001b[0;31m             \u001b[0mline\u001b[0m \u001b[0;34m=\u001b[0m \u001b[0mself\u001b[0m\u001b[0;34m.\u001b[0m\u001b[0m_readline\u001b[0m\u001b[0;34m(\u001b[0m\u001b[0;34m)\u001b[0m\u001b[0;34m\u001b[0m\u001b[0;34m\u001b[0m\u001b[0m\n\u001b[0m\u001b[1;32m    252\u001b[0m             \u001b[0;32mif\u001b[0m \u001b[0mline\u001b[0m\u001b[0;34m:\u001b[0m\u001b[0;34m\u001b[0m\u001b[0;34m\u001b[0m\u001b[0m\n\u001b[1;32m    253\u001b[0m                 \u001b[0mself\u001b[0m\u001b[0;34m.\u001b[0m\u001b[0m_filelineno\u001b[0m \u001b[0;34m+=\u001b[0m \u001b[0;36m1\u001b[0m\u001b[0;34m\u001b[0m\u001b[0;34m\u001b[0m\u001b[0m\n",
            "\u001b[0;32m/usr/lib/python3.11/fileinput.py\u001b[0m in \u001b[0;36m_readline\u001b[0;34m(self)\u001b[0m\n\u001b[1;32m    335\u001b[0m                     \u001b[0;32mpass\u001b[0m\u001b[0;34m\u001b[0m\u001b[0;34m\u001b[0m\u001b[0m\n\u001b[1;32m    336\u001b[0m                 \u001b[0;31m# The next few lines may raise OSError\u001b[0m\u001b[0;34m\u001b[0m\u001b[0;34m\u001b[0m\u001b[0m\n\u001b[0;32m--> 337\u001b[0;31m                 \u001b[0mos\u001b[0m\u001b[0;34m.\u001b[0m\u001b[0mrename\u001b[0m\u001b[0;34m(\u001b[0m\u001b[0mself\u001b[0m\u001b[0;34m.\u001b[0m\u001b[0m_filename\u001b[0m\u001b[0;34m,\u001b[0m \u001b[0mself\u001b[0m\u001b[0;34m.\u001b[0m\u001b[0m_backupfilename\u001b[0m\u001b[0;34m)\u001b[0m\u001b[0;34m\u001b[0m\u001b[0;34m\u001b[0m\u001b[0m\n\u001b[0m\u001b[1;32m    338\u001b[0m                 self._file = open(self._backupfilename, self._mode,\n\u001b[1;32m    339\u001b[0m                                   encoding=encoding, errors=self._errors)\n",
            "\u001b[0;31mFileNotFoundError\u001b[0m: [Errno 2] No such file or directory: '/content/SadTalker/src/face3d/util/my_awing_arch.py' -> '/content/SadTalker/src/face3d/util/my_awing_arch.py.bak'"
          ]
        }
      ],
      "source": [
        "import fileinput\n",
        "import sys\n",
        "\n",
        "file_path = '/content/SadTalker/src/face3d/util/my_awing_arch.py'\n",
        "old_string = 'preds = preds.astype(np.float, copy=False)'\n",
        "new_string = 'preds = preds.astype(float, copy=False)'  # Use built-in float\n",
        "\n",
        "# Edit the file in place to replace deprecated np.float\n",
        "for line in fileinput.FileInput(file_path, inplace=True):\n",
        "    if old_string in line:\n",
        "        line = line.replace(old_string, new_string)\n",
        "    sys.stdout.write(line)\n",
        "\n",
        "print(f\"✅ Fixed np.float issue in: {file_path}\")\n"
      ]
    },
    {
      "cell_type": "code",
      "source": [],
      "metadata": {
        "id": "3znpfQHi_Tp0"
      },
      "execution_count": null,
      "outputs": []
    },
    {
      "cell_type": "code",
      "execution_count": null,
      "metadata": {
        "id": "rT_oLl1J5Xzl"
      },
      "outputs": [],
      "source": [
        "import sys\n",
        "import os\n",
        "import numpy as np\n",
        "\n",
        "file_path = '/content/SadTalker/src/face3d/util/preprocess.py'\n",
        "debug_string_identifier = \"DEBUG: align_img vars -\"\n",
        "\n",
        "try:\n",
        "    # Read the current content\n",
        "    with open(file_path, 'r') as f:\n",
        "        lines = f.readlines()\n",
        "\n",
        "    # Check if imports are already there\n",
        "    import_sys_present = any(\"import sys\" in line for line in lines)\n",
        "    import_numpy_present = any(\"import numpy\" in line for line in lines)\n",
        "\n",
        "    updated_lines = []\n",
        "\n",
        "    # Add imports if missing\n",
        "    if not import_sys_present:\n",
        "        updated_lines.append(\"import sys\\n\")\n",
        "    if not import_numpy_present:\n",
        "        updated_lines.append(\"import numpy as np\\n\")\n",
        "\n",
        "    # Modify content\n",
        "    for line in lines:\n",
        "        if debug_string_identifier in line:\n",
        "            continue  # Remove debug line\n",
        "        elif 'trans_params = np.array([w0, h0, s, t[0], t[1]])' in line:\n",
        "            updated_lines.append('    trans_params = np.array([w0, h0, s, t[0][0], t[1][0]])  # Fixed shape error\\n')\n",
        "        else:\n",
        "            updated_lines.append(line)\n",
        "\n",
        "    # Write back\n",
        "    with open(file_path, 'w') as f:\n",
        "        f.writelines(updated_lines)\n",
        "\n",
        "    print(f\"✅ Patch applied to '{file_path}' successfully!\")\n",
        "\n",
        "except FileNotFoundError:\n",
        "    print(f\"❌ File not found at {file_path}. Make sure SadTalker is cloned properly.\")\n",
        "except Exception as e:\n",
        "    print(f\"⚠️ Error occurred during patching: {e}\")\n"
      ]
    },
    {
      "cell_type": "code",
      "execution_count": null,
      "metadata": {
        "id": "Drkp-TWg5oaB"
      },
      "outputs": [],
      "source": [
        "import fileinput\n",
        "import sys\n",
        "import os\n",
        "\n",
        "# Path to the problematic file inside basicsr\n",
        "basicsr_file_path = '/usr/local/lib/python3.11/dist-packages/basicsr/data/degradations.py'\n",
        "problematic_import = 'from torchvision.transforms.functional_tensor import rgb_to_grayscale'\n",
        "\n",
        "print(f\"🚧 Attempting to patch '{basicsr_file_path}' to remove the broken import...\")\n",
        "\n",
        "try:\n",
        "    if not os.path.exists(basicsr_file_path):\n",
        "        print(f\"❌ File not found: {basicsr_file_path} — basicsr might not be installed yet.\")\n",
        "    else:\n",
        "        for line in fileinput.FileInput(basicsr_file_path, inplace=True):\n",
        "            if problematic_import in line:\n",
        "                print(f\"⚠️ Removed line: {line.strip()}\", file=sys.stderr)  # Logs removed line\n",
        "                continue  # Skip writing the problematic line\n",
        "            sys.stdout.write(line)\n",
        "\n",
        "        print(f\"✅ Successfully patched '{basicsr_file_path}' and removed the import.\")\n",
        "\n",
        "except Exception as e:\n",
        "    print(f\"🔥 Error during patching: {e}\")\n"
      ]
    },
    {
      "cell_type": "code",
      "execution_count": null,
      "metadata": {
        "id": "Z78bLclftlqf"
      },
      "outputs": [],
      "source": [
        "from google.colab import files\n",
        "\n",
        "# Prompt the user to upload an image (preferably a clear front-facing face)\n",
        "print(\"📷 Upload a portrait image for the avatar (JPG or PNG, front-facing preferred)\")\n",
        "uploaded = files.upload()  # Opens file picker\n",
        "\n",
        "# Grab the uploaded file name\n",
        "import os\n",
        "filename = next(iter(uploaded))\n",
        "print(f\"✅ Uploaded: {filename}\")\n",
        "\n",
        "# You can now use this `filename` as input for SadTalker or image processing\n"
      ]
    },
    {
      "cell_type": "code",
      "execution_count": null,
      "metadata": {
        "id": "ninEUFKdt7Ik"
      },
      "outputs": [],
      "source": [
        "# 🔊 This is the sample script your avatar will speak.\n",
        "# You can change it to anything depending on the lesson topic.\n",
        "lesson_text = \"\"\"\n",
        "Hello students! Today, I will teach you about the process of photosynthesis.\n",
        "Photosynthesis is how plants convert sunlight, water, and carbon dioxide into energy and oxygen.\n",
        "Let's explore how this amazing process works!\n",
        "\"\"\"\n",
        "\n",
        "# 🧠 Tip for your team:\n",
        "# - Keep it under 2–3 lines for faster processing and clarity\n",
        "# - Keep language simple so the avatar syncs lips better\n"
      ]
    },
    {
      "cell_type": "code",
      "execution_count": null,
      "metadata": {
        "id": "1fa50e6e"
      },
      "outputs": [],
      "source": [
        "# Re-install Coqui TTS to ensure it's available\n",
        "print(\"Re-installing TTS package...\")\n",
        "!pip install TTS\n",
        "print(\"✅ TTS package re-installed successfully.\")"
      ]
    },
    {
      "cell_type": "code",
      "execution_count": null,
      "metadata": {
        "id": "eRwZwsGGtu7r"
      },
      "outputs": [],
      "source": [
        "import os\n",
        "from TTS.api import TTS\n",
        "\n",
        "# 🎙️ Load a pre-trained English TTS model (Tacotron2 with DDC)\n",
        "tts = TTS(model_name=\"tts_models/en/ljspeech/tacotron2-DDC\", progress_bar=False, gpu=False)\n",
        "\n",
        "# 📂 Output filename for the generated audio\n",
        "output_wav = \"lesson.wav\"\n",
        "\n",
        "# 🧠 Convert the lesson_text into a speech audio file\n",
        "tts.tts_to_file(text=lesson_text, file_path=output_wav)\n",
        "\n",
        "print(f\"✅ Audio file generated: {output_wav}\")"
      ]
    },
    {
      "cell_type": "code",
      "execution_count": null,
      "metadata": {
        "colab": {
          "background_save": true
        },
        "id": "6Q_FAvEet8T1"
      },
      "outputs": [],
      "source": [
        "import os\n",
        "import shutil\n",
        "\n",
        "# 📷 Automatically find the uploaded avatar image file (jpg/png/jpeg)\n",
        "avatar_image = [f for f in os.listdir() if f.lower().endswith(('.png', '.jpg', '.jpeg'))][0]\n",
        "\n",
        "# 🔉 Path to the generated lesson audio\n",
        "audio_path = output_wav  # Must be defined from the previous TTS step\n",
        "\n",
        "# 📁 Create input/output folders if not already there\n",
        "os.makedirs('input', exist_ok=True)\n",
        "os.makedirs('output', exist_ok=True)\n",
        "\n",
        "# 🗂️ Move files into input folder for SadTalker\n",
        "shutil.copy(avatar_image, 'input/avatar.png')\n",
        "shutil.copy(audio_path, 'input/lesson.wav')\n",
        "\n",
        "# 📍 Make sure you're inside SadTalker directory before running inference\n",
        "current_dir = os.getcwd()\n",
        "if os.path.basename(current_dir) != 'SadTalker':\n",
        "    %cd SadTalker\n",
        "\n",
        "# 🚀 Run SadTalker to generate the talking avatar\n",
        "# Added --size 256 and removed --enhancer gfpgan for faster processing\n",
        "print(\"🔥 Running SadTalker inference with faster settings...\")\n",
        "!python inference.py \\\n",
        "  --driven_audio ../input/lesson.wav \\\n",
        "  --source_image ../input/avatar.png \\\n",
        "  --result_dir ../output \\\n",
        "  --still \\\n",
        "  --preprocess full \\\n",
        "  --size 256 \\\n",
        "  --batch_size 1 \\\n",
        "  --expression_scale 1.0 \\\n",
        "  --input_yaw 0 --input_pitch 0 --input_roll 0\n",
        "\n",
        "\n",
        "# ⬅️ Go back to root directory after running the model\n",
        "if os.path.basename(os.getcwd()) == 'SadTalker':\n",
        "    %cd .."
      ]
    },
    {
      "cell_type": "code",
      "execution_count": null,
      "metadata": {
        "id": "127f3e9c"
      },
      "outputs": [],
      "source": [
        "from IPython.display import Video\n",
        "import os\n",
        "\n",
        "# 📂 Define the output directory\n",
        "output_dir = 'output'\n",
        "\n",
        "# 🎥 Find any MP4 file generated by SadTalker\n",
        "mp4_files = [f for f in os.listdir(output_dir) if f.endswith('.mp4')]\n",
        "\n",
        "if mp4_files:\n",
        "    video_file = mp4_files[0]\n",
        "    video_path = f\"{output_dir}/{video_file}\"\n",
        "    print(f\"✅ Found video file: {video_path}\")\n",
        "\n",
        "    # 🎬 Display the video right in the notebook\n",
        "    print(\"🎥 Playing generated avatar video below...\")\n",
        "    display(Video(video_path, embed=True, width=400))\n",
        "else:\n",
        "    print(f\"❌ No video found in '{output_dir}' folder.\")\n",
        "    print(\"⚠️ Check if SadTalker ran successfully and generated the output.\")\n"
      ]
    }
  ],
  "metadata": {
    "colab": {
      "provenance": []
    },
    "kernelspec": {
      "display_name": "Python 3",
      "name": "python3"
    },
    "language_info": {
      "name": "python"
    }
  },
  "nbformat": 4,
  "nbformat_minor": 0
}